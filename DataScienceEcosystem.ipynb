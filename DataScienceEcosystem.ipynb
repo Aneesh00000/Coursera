{
 "cells": [
  {
   "cell_type": "markdown",
   "id": "0e80df2d",
   "metadata": {},
   "source": [
    "# Data Science Tools and Ecosystem"
   ]
  },
  {
   "cell_type": "markdown",
   "id": "96f49a81",
   "metadata": {},
   "source": [
    "In this notebook, Data Science Tools and Ecosystem are summarized.\n"
   ]
  },
  {
   "cell_type": "markdown",
   "id": "961a0920",
   "metadata": {},
   "source": [
    "Some of the popular languages that Data Scientists use are:\n",
    "1. RStudio\n",
    "2. Jupyter Notebook\n",
    "3. Spyder\n",
    "\n"
   ]
  },
  {
   "cell_type": "markdown",
   "id": "25d60837",
   "metadata": {},
   "source": [
    "## Some of the commonly used libraries used by Data Scientists include:\n",
    "\n",
    "* Pandas\n",
    "* NumPy\n",
    "* Scikit-learn\n"
   ]
  },
  {
   "cell_type": "markdown",
   "id": "91c5b179",
   "metadata": {},
   "source": [
    "## Data Science Tools"
   ]
  },
  {
   "cell_type": "code",
   "execution_count": 3,
   "id": "5cdda43c",
   "metadata": {},
   "outputs": [
    {
     "data": {
      "text/markdown": [
       "| Data Science Tools |\n",
       "| --- |\n",
       "| RStudio |\n",
       "| Jupyter Notebook |\n",
       "| Spyder |\n"
      ],
      "text/plain": [
       "<IPython.core.display.Markdown object>"
      ]
     },
     "metadata": {},
     "output_type": "display_data"
    }
   ],
   "source": [
    "from IPython.display import Markdown, display\n",
    "\n",
    "# Define table data\n",
    "table_data = \"| Data Science Tools |\\n| --- |\\n| RStudio |\\n| Jupyter Notebook |\\n| Spyder |\\n\"\n",
    "\n",
    "# Convert table data to markdown and display\n",
    "display(Markdown(table_data))\n"
   ]
  },
  {
   "cell_type": "markdown",
   "id": "3e67130a",
   "metadata": {},
   "source": [
    "### Below are a few examples of evaluating arithmetic expressions in Python.\n"
   ]
  },
  {
   "cell_type": "code",
   "execution_count": 5,
   "id": "3c850d17",
   "metadata": {},
   "outputs": [
    {
     "data": {
      "text/plain": [
       "17"
      ]
     },
     "execution_count": 5,
     "metadata": {},
     "output_type": "execute_result"
    }
   ],
   "source": [
    "# This a simple arithmetic expression to mutiply then add integers\n",
    "(3*4)+5"
   ]
  },
  {
   "cell_type": "code",
   "execution_count": 6,
   "id": "5a78f14b",
   "metadata": {},
   "outputs": [
    {
     "name": "stdout",
     "output_type": "stream",
     "text": [
      "3.3333333333333335\n"
     ]
    }
   ],
   "source": [
    "# This will convert 200 minutes to hours by diving by 60\n",
    "minutes = 200\n",
    "hours = minutes / 60\n",
    "print(hours)\n"
   ]
  },
  {
   "cell_type": "markdown",
   "id": "2d72065e",
   "metadata": {},
   "source": [
    "# Objectives:\n",
    "\n",
    "* Popular language for Data Scientist\n",
    "* How to display a table use IPython\n",
    "* How to performed simple arithmetic operation"
   ]
  },
  {
   "cell_type": "markdown",
   "id": "b27bc41f",
   "metadata": {},
   "source": [
    "## Author: Rishi Kumar"
   ]
  }
 ],
 "metadata": {
  "kernelspec": {
   "display_name": "Python 3 (ipykernel)",
   "language": "python",
   "name": "python3"
  },
  "language_info": {
   "codemirror_mode": {
    "name": "ipython",
    "version": 3
   },
   "file_extension": ".py",
   "mimetype": "text/x-python",
   "name": "python",
   "nbconvert_exporter": "python",
   "pygments_lexer": "ipython3",
   "version": "3.9.13"
  }
 },
 "nbformat": 4,
 "nbformat_minor": 5
}
